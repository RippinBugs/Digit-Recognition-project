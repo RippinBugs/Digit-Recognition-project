{
 "cells": [
  {
   "cell_type": "markdown",
   "id": "57cfb5de",
   "metadata": {},
   "source": [
    "### Importing Libraries"
   ]
  },
  {
   "cell_type": "code",
   "execution_count": 1,
   "id": "70145925",
   "metadata": {},
   "outputs": [],
   "source": [
    "import numpy as np\n",
    "import pandas as pd\n",
    "import matplotlib.pyplot as plt\n",
    "import torch\n",
    "import torchvision \n",
    "import torch.nn.functional as F  \n",
    "import torchvision.datasets as datasets  \n",
    "import torchvision.transforms as transforms \n",
    "from torch import optim  \n",
    "from torch import nn  \n",
    "from torch.utils.data import DataLoader  \n",
    "from tqdm import tqdm  \n",
    "from torchmetrics import F1Score, ConfusionMatrix"
   ]
  },
  {
   "cell_type": "markdown",
   "id": "b4434727",
   "metadata": {},
   "source": [
    "### Training and Testing Dataset"
   ]
  },
  {
   "cell_type": "code",
   "execution_count": 2,
   "id": "13016c1c",
   "metadata": {},
   "outputs": [],
   "source": [
    "device = torch.device('cuda' if torch.cuda.is_available() else 'cpu')"
   ]
  },
  {
   "cell_type": "code",
   "execution_count": 3,
   "id": "0d15a2c8",
   "metadata": {},
   "outputs": [],
   "source": [
    "in_channels = 1\n",
    "num_classes = 10\n",
    "learning_rate = 0.001\n",
    "batch_size = 64\n",
    "num_epochs = 15"
   ]
  },
  {
   "cell_type": "code",
   "execution_count": 4,
   "id": "13bfce30",
   "metadata": {},
   "outputs": [],
   "source": [
    "torch.manual_seed(0)\n",
    "train_dataset = datasets.MNIST(root='dataset/',train = True, transform=transforms.ToTensor(),download=True)\n",
    "train_loader = DataLoader(dataset=train_dataset,batch_size=batch_size,shuffle=True)\n",
    "test_dataset = datasets.MNIST(root='dataset/',train = False, transform=transforms.ToTensor(),download=True)\n",
    "test_loader = DataLoader(dataset=test_dataset,batch_size=batch_size,shuffle=True)"
   ]
  },
  {
   "cell_type": "code",
   "execution_count": 5,
   "id": "edb32f70",
   "metadata": {},
   "outputs": [],
   "source": [
    "class CNN(nn.Module):  \n",
    "    def __init__(self,input_channels = 1,num_classes = 10,dropout = 0.0):  \n",
    "        #super initialization of the parent class\n",
    "        super(CNN,self).__init__()   \n",
    "\n",
    "        self.conv1 = nn.Conv2d(in_channels=1,out_channels=8,kernel_size=(3,3),stride=(1,1),padding=(1,1))\n",
    "        self.conv2 = nn.Conv2d(in_channels=8,out_channels=16,kernel_size=(3,3),stride=(1,1),padding=(1,1))\n",
    "        self.pool = nn.MaxPool2d(kernel_size=(2,2),stride=(2,2))\n",
    "        self.fc1 = nn.Linear(16*7*7,64)\n",
    "        self.fc2 = nn.Linear(64,num_classes)\n",
    "        self.dropout = nn.Dropout(p = dropout)\n",
    "        \n",
    "    def forward(self,x):   \n",
    "        x = F.relu(self.conv1(x))\n",
    "        x = self.pool(x)\n",
    "        x = F.relu(self.conv2(x))\n",
    "        x = self.pool(x)\n",
    "        x = x.reshape(x.shape[0],-1)\n",
    "        x = self.dropout(x)\n",
    "        x = F.relu(self.fc1(x))\n",
    "        x = self.dropout(x)\n",
    "        x = self.fc2(x)\n",
    "        return x"
   ]
  },
  {
   "cell_type": "markdown",
   "id": "f49323d4",
   "metadata": {},
   "source": [
    "### Initialize Network"
   ]
  },
  {
   "cell_type": "code",
   "execution_count": 6,
   "id": "472c2b35",
   "metadata": {},
   "outputs": [],
   "source": [
    "torch.manual_seed(0)\n",
    "model = CNN(input_channels = 1,num_classes = 10,dropout = 0.1).to(device)\n",
    "\n",
    "#cost function\n",
    "criterion = nn.CrossEntropyLoss()\n",
    "#optimization algorithm\n",
    "optimizer = optim.RMSprop(model.parameters(),lr = learning_rate)"
   ]
  },
  {
   "cell_type": "markdown",
   "id": "6125791a",
   "metadata": {},
   "source": [
    "### Train Network"
   ]
  },
  {
   "cell_type": "code",
   "execution_count": 7,
   "id": "ba9e9b3c",
   "metadata": {},
   "outputs": [
    {
     "name": "stderr",
     "output_type": "stream",
     "text": [
      "100%|████████████████████████████████████████████████████████████████████████████████| 938/938 [00:15<00:00, 61.33it/s]\n",
      "100%|████████████████████████████████████████████████████████████████████████████████| 938/938 [00:15<00:00, 59.25it/s]\n",
      "100%|████████████████████████████████████████████████████████████████████████████████| 938/938 [00:15<00:00, 58.80it/s]\n",
      "100%|████████████████████████████████████████████████████████████████████████████████| 938/938 [00:16<00:00, 58.57it/s]\n",
      "100%|████████████████████████████████████████████████████████████████████████████████| 938/938 [00:16<00:00, 57.16it/s]\n",
      "100%|████████████████████████████████████████████████████████████████████████████████| 938/938 [00:15<00:00, 59.00it/s]\n",
      "100%|████████████████████████████████████████████████████████████████████████████████| 938/938 [00:16<00:00, 58.35it/s]\n",
      "100%|████████████████████████████████████████████████████████████████████████████████| 938/938 [00:16<00:00, 57.96it/s]\n",
      "100%|████████████████████████████████████████████████████████████████████████████████| 938/938 [00:18<00:00, 51.83it/s]\n",
      "100%|████████████████████████████████████████████████████████████████████████████████| 938/938 [00:14<00:00, 66.89it/s]\n",
      "100%|████████████████████████████████████████████████████████████████████████████████| 938/938 [00:10<00:00, 85.56it/s]\n",
      "100%|████████████████████████████████████████████████████████████████████████████████| 938/938 [00:10<00:00, 87.68it/s]\n",
      "100%|████████████████████████████████████████████████████████████████████████████████| 938/938 [00:10<00:00, 88.26it/s]\n",
      "100%|████████████████████████████████████████████████████████████████████████████████| 938/938 [00:11<00:00, 82.85it/s]\n",
      "100%|████████████████████████████████████████████████████████████████████████████████| 938/938 [00:10<00:00, 88.34it/s]\n"
     ]
    }
   ],
   "source": [
    "torch.manual_seed(0)\n",
    "loss_after_epoch = []\n",
    "for epoch in range(num_epochs):\n",
    "    running_loss = 0\n",
    "    for batch_idx,(data,targets) in enumerate(tqdm(train_loader)):\n",
    "        data = data.to(device=device)\n",
    "        targets = targets.to(device = device)\n",
    "        \n",
    "        \n",
    "        #forward\n",
    "        scores = model(data)\n",
    "        loss = criterion(scores,targets)\n",
    "        \n",
    "        #backward\n",
    "        optimizer.zero_grad()  \n",
    "        loss.backward()\n",
    "        \n",
    "        #gradient descent\n",
    "        optimizer.step() \n",
    "        \n",
    "        running_loss += loss.item()\n",
    "    loss_after_epoch.append(running_loss/len(train_loader))"
   ]
  },
  {
   "cell_type": "code",
   "execution_count": 8,
   "id": "9ba8be6b",
   "metadata": {},
   "outputs": [
    {
     "data": {
      "image/png": "[encoded data removed]",
      "text/plain": [
       "<Figure size 432x288 with 1 Axes>"
      ]
     },
     "metadata": {
      "needs_background": "light"
     },
     "output_type": "display_data"
    }
   ],
   "source": [
    "#Plot training loss against epochs\n",
    "#plt.style.use('fivethirtyeight')\n",
    "x = np.arange(0,num_epochs)\n",
    "plt.plot(x,loss_after_epoch)\n",
    "plt.grid(True)\n",
    "plt.title(\"Train Loss vs Epochs\")\n",
    "plt.xlabel('Epochs')\n",
    "plt.ylabel('Train Loss') \n",
    "plt.tight_layout()\n",
    "plt.show()"
   ]
  },
  {
   "cell_type": "markdown",
   "id": "34e96529",
   "metadata": {},
   "source": [
    "### Evaluation"
   ]
  },
  {
   "cell_type": "code",
   "execution_count": 9,
   "id": "bec3189d",
   "metadata": {},
   "outputs": [
    {
     "name": "stdout",
     "output_type": "stream",
     "text": [
      "Confusion matrix: \n",
      "      0     1     2     3     4     5     6     7     8     9\n",
      "0  5920     0     1     0     0     0     1     0     1     0\n",
      "1     0  6734     3     0     1     0     1     3     0     0\n",
      "2     0     1  5954     1     0     0     0     2     0     0\n",
      "3     0     0     2  6124     0     2     0     1     1     1\n",
      "4     0     1     0     0  5837     0     1     1     0     2\n",
      "5     2     1     0     4     0  5401    12     0     1     0\n",
      "6     5     1     2     0     2     0  5907     0     1     0\n",
      "7     0     8     4     2     1     0     0  6250     0     0\n",
      "8     3     4     3     5     3     4     4     0  5820     5\n",
      "9     2     2     0     3    26     2     1    31     1  5881\n",
      "Confusion matrix: \n",
      "     0     1     2     3    4    5    6     7    8    9\n",
      "0  977     0     0     0    0    0    1     1    1    0\n",
      "1    0  1134     0     1    0    0    0     0    0    0\n",
      "2    1     0  1024     3    1    0    0     3    0    0\n",
      "3    0     0     2  1002    0    4    0     1    1    0\n",
      "4    0     0     1     0  975    0    1     0    0    5\n",
      "5    0     0     0     3    0  887    1     0    1    0\n",
      "6    4     2     1     0    1    2  947     0    1    0\n",
      "7    0     3     6     0    0    0    0  1016    1    2\n",
      "8    0     1     3     3    2    1    1     1  959    3\n",
      "9    0     3     0     3    7    2    0     8    3  983\n"
     ]
    }
   ],
   "source": [
    "def evaluation(loader, model):\n",
    "    model.eval()\n",
    "    \n",
    "    num_correct = 0\n",
    "    num_samples = 0\n",
    "    predicted = torch.Tensor()\n",
    "    actual = torch.Tensor()\n",
    "    \n",
    "    with torch.no_grad():\n",
    "        for x, y in loader:\n",
    "            \n",
    "            x = x.to(device=device)\n",
    "            y = y.to(device=device)\n",
    "            actual = torch.cat((actual,y.reshape(-1)))\n",
    "        \n",
    "\n",
    "            # Forward pass\n",
    "            scores = model(x)\n",
    "            _, predictions = scores.max(1)\n",
    "            predicted = torch.cat((predicted,predictions.reshape(-1)))\n",
    "            \n",
    "            #keep track of number of correctly classified samples\n",
    "            num_correct += (predictions == y).sum()\n",
    "\n",
    "            # Keep track of number of samples\n",
    "            num_samples += predictions.size(0)\n",
    "            \n",
    "    # Check how many we got correct\n",
    "    accuracy = num_correct/num_samples    \n",
    "    \n",
    "    predicted = predicted.type(torch.int64)\n",
    "    actual = actual.type(torch.int64)\n",
    "    \n",
    "    cm = ConfusionMatrix(10)\n",
    "    df = pd.DataFrame((cm(predicted,actual)).cpu().numpy())\n",
    "    print(\"Confusion matrix: \")\n",
    "    print(df)\n",
    "    \n",
    "    #summation of the prediction of all the single classes\n",
    "    pre = df.sum(axis = 0)\n",
    "    #summation of ground truths of every individual digit in the dataset \n",
    "    act = df.sum(axis = 1)\n",
    "    \n",
    "    f1 = F1Score(10)\n",
    "    \n",
    "    #calculate percentage of class accuracy \n",
    "    class_accuracy = []\n",
    "    for i in range(num_classes):\n",
    "        class_accuracy.append((df.loc[i,i]/act[i])*100)\n",
    "    \n",
    "    return (class_accuracy,accuracy,f1(predicted,actual))\n",
    "    \n",
    "train_class_per, train_class_acc, train_f1 = evaluation(train_loader,model)\n",
    "test_class_per, test_class_acc, test_f1 = evaluation(test_loader,model)"
   ]
  },
  {
   "cell_type": "code",
   "execution_count": 10,
   "id": "589e3766",
   "metadata": {},
   "outputs": [
    {
     "name": "stdout",
     "output_type": "stream",
     "text": [
      "Accuracy on training set: 99.71\n",
      "f1 score is: 99.71\n",
      "Accuracy on test set: 99.04\n",
      "f1 score is: 99.04\n"
     ]
    }
   ],
   "source": [
    "# accuracy and F1 score \n",
    "print(f\"Accuracy on training set: {train_class_acc*100:.2f}\")\n",
    "print(f\"f1 score is: {train_f1.cpu().numpy()*100:.2f}\")\n",
    "print(f\"Accuracy on test set: {test_class_acc*100:.2f}\")\n",
    "print(f\"f1 score is: {test_f1.cpu().numpy()*100:.2f}\")"
   ]
  },
  {
   "cell_type": "code",
   "execution_count": 11,
   "id": "7317754f",
   "metadata": {},
   "outputs": [
    {
     "data": {
      "text/html": [
       "<div>\n",
       "<style scoped>\n",
       "    .dataframe tbody tr th:only-of-type {\n",
       "        vertical-align: middle;\n",
       "    }\n",
       "\n",
       "    .dataframe tbody tr th {\n",
       "        vertical-align: top;\n",
       "    }\n",
       "\n",
       "    .dataframe thead th {\n",
       "        text-align: right;\n",
       "    }\n",
       "</style>\n",
       "<table border=\"1\" class=\"dataframe\">\n",
       "  <thead>\n",
       "    <tr style=\"text-align: right;\">\n",
       "      <th></th>\n",
       "      <th>train_acc_per_digit</th>\n",
       "      <th>test_acc_per_digit</th>\n",
       "    </tr>\n",
       "  </thead>\n",
       "  <tbody>\n",
       "    <tr>\n",
       "      <th>0</th>\n",
       "      <td>99.949350</td>\n",
       "      <td>99.693878</td>\n",
       "    </tr>\n",
       "    <tr>\n",
       "      <th>1</th>\n",
       "      <td>99.881341</td>\n",
       "      <td>99.911894</td>\n",
       "    </tr>\n",
       "    <tr>\n",
       "      <th>2</th>\n",
       "      <td>99.932863</td>\n",
       "      <td>99.224806</td>\n",
       "    </tr>\n",
       "    <tr>\n",
       "      <th>3</th>\n",
       "      <td>99.885826</td>\n",
       "      <td>99.207921</td>\n",
       "    </tr>\n",
       "    <tr>\n",
       "      <th>4</th>\n",
       "      <td>99.914413</td>\n",
       "      <td>99.287169</td>\n",
       "    </tr>\n",
       "    <tr>\n",
       "      <th>5</th>\n",
       "      <td>99.631064</td>\n",
       "      <td>99.439462</td>\n",
       "    </tr>\n",
       "    <tr>\n",
       "      <th>6</th>\n",
       "      <td>99.814126</td>\n",
       "      <td>98.851775</td>\n",
       "    </tr>\n",
       "    <tr>\n",
       "      <th>7</th>\n",
       "      <td>99.760575</td>\n",
       "      <td>98.832685</td>\n",
       "    </tr>\n",
       "    <tr>\n",
       "      <th>8</th>\n",
       "      <td>99.470176</td>\n",
       "      <td>98.459959</td>\n",
       "    </tr>\n",
       "    <tr>\n",
       "      <th>9</th>\n",
       "      <td>98.856951</td>\n",
       "      <td>97.423191</td>\n",
       "    </tr>\n",
       "  </tbody>\n",
       "</table>\n",
       "</div>"
      ],
      "text/plain": [
       "   train_acc_per_digit  test_acc_per_digit\n",
       "0            99.949350           99.693878\n",
       "1            99.881341           99.911894\n",
       "2            99.932863           99.224806\n",
       "3            99.885826           99.207921\n",
       "4            99.914413           99.287169\n",
       "5            99.631064           99.439462\n",
       "6            99.814126           98.851775\n",
       "7            99.760575           98.832685\n",
       "8            99.470176           98.459959\n",
       "9            98.856951           97.423191"
      ]
     },
     "execution_count": 11,
     "metadata": {},
     "output_type": "execute_result"
    }
   ],
   "source": [
    "#Test and train accuracy of every class in the dataset\n",
    "df_train = pd.DataFrame(np.array(train_class_per).reshape(10,1))\n",
    "df_test = pd.DataFrame(np.array(test_class_per).reshape(10,1))\n",
    "df = pd.concat([df_train,df_test],axis = 1)\n",
    "df.columns = ['train_acc_per_digit','test_acc_per_digit']\n",
    "df"
   ]
  },
  {
   "cell_type": "code",
   "execution_count": 13,
   "id": "e6a9c69e",
   "metadata": {},
   "outputs": [
    {
     "data": {
      "image/png": "[encoded data removed]",
      "text/plain": [
       "<Figure size 432x288 with 1 Axes>"
      ]
     },
     "metadata": {
      "needs_background": "light"
     },
     "output_type": "display_data"
    }
   ],
   "source": [
    "#plot class percentage of every digit class\n",
    "x = np.arange(0,10)\n",
    "plt.plot(x,np.array(train_class_per),'g',label = 'train_acc_per_digit',marker = '.')\n",
    "plt.plot(x,np.array(test_class_per),'r',label = 'test_acc_per_digit',marker = '*')\n",
    "plt.title('Percentage of Correctly classified Digits')\n",
    "plt.xlabel('Digit')\n",
    "plt.ylabel('percentage') \n",
    "plt.grid(True)  \n",
    "plt.xticks(ticks=x) \n",
    "plt.tight_layout()\n",
    "plt.legend()\n",
    "\n",
    "plt.savefig(\"cnn_class_accuracy.png\")\n",
    "\n",
    "plt.show()"
   ]
  },
  {
   "cell_type": "code",
   "execution_count": null,
   "id": "d9e5933d",
   "metadata": {},
   "outputs": [],
   "source": []
  },
  {
   "cell_type": "code",
   "execution_count": null,
   "id": "4884f3a4",
   "metadata": {},
   "outputs": [],
   "source": []
  }
 ],
 "metadata": {
  "kernelspec": {
   "display_name": "Python 3 (ipykernel)",
   "language": "python",
   "name": "python3"
  },
  "language_info": {
   "codemirror_mode": {
    "name": "ipython",
    "version": 3
   },
   "file_extension": ".py",
   "mimetype": "text/x-python",
   "name": "python",
   "nbconvert_exporter": "python",
   "pygments_lexer": "ipython3",
   "version": "3.9.12"
  }
 },
 "nbformat": 4,
 "nbformat_minor": 5
}
